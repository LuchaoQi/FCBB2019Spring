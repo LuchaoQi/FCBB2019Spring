{
 "cells": [
  {
   "cell_type": "code",
   "execution_count": 23,
   "metadata": {
    "scrolled": false
   },
   "outputs": [
    {
     "name": "stdout",
     "output_type": "stream",
     "text": [
      "BLCA\n",
      "# of ME: 5\n",
      "BRCA\n",
      "# of ME: 25\n",
      "30\n",
      "[('TP53-FGFR3', 1), ('KMT2A-FGFR3', 1), ('RB1-FGFR3', 1), ('FGFR3-ARID1A', 1), ('HUWE1-ERBB3', 1), ('TP53-CDH1', 1), ('TP53-PIK3CA', 1), ('TP53-MAP3K1', 1), ('TP53-CBFB', 1), ('PIK3CA-AKT1', 1), ('TP53-FOXA1', 1), ('TP53-AKT1', 1), ('TP53-ARID1A', 1), ('TP53-MAP2K4', 1), ('SPTA1-PIK3CA', 1), ('KMT2C-CDH1', 1), ('NF1-CDH1', 1), ('TP53-NCOR1', 1), ('TP53-KDM5C', 1), ('TP53-HUWE1', 1), ('NCOR1-MAP3K1', 1), ('TP53-PLCB4', 1), ('KMT2D-CDH1', 1), ('TP53-PLXNB2', 1), ('PIK3CA-MACF1', 1), ('HUWE1-CDH1', 1), ('SPTA1-CDH1', 1), ('TP53-NF1', 1), ('MAP3K1-CDH1', 1), ('PTEN-MAP3K1', 1)]\n"
     ]
    }
   ],
   "source": [
    "import csv\n",
    "import networkx as nx\n",
    "import matplotlib.pyplot as plt\n",
    "import pandas as pd\n",
    "import matplotlib.patches as mpatches\n",
    "from matplotlib.pyplot import figure\n",
    "\n",
    "# cancerList = [\"BRCA\", \"GBM\", \"LAML\", \"LGG\", \"LIHC\", \"KIRP\", \"KIRC\", \\\n",
    "#               \"CESC\", \"STAD\", \"SKCM\", \"SARC\", \"PAAD\", \"LUSC\", \"LUAD\", \\\n",
    "#               \"UCEC\"]\n",
    "\n",
    "cancerList = [\"BLCA\",\"BRCA\", \"GBM\", \"LGG\", \"LIHC\", \"KIRC\", \\\n",
    "              \"CESC\", \"SKCM\", \"PAAD\", \"LUSC\", \"LUAD\", \\\n",
    "              \"UCEC\", \"STAD\"]\n",
    "cancerList = [\"BLCA\", \"BRCA\"]\n",
    "ME_dic={}\n",
    "for myCancer in cancerList:\n",
    "    G = nx.Graph()\n",
    "    print(myCancer)\n",
    "    ####### Mutually Exclusive Red Edges\n",
    "    ME_count = 0\n",
    "    file_n = myCancer + '/' + myCancer + \"_mut.csv\"\n",
    "    with open(file_n, newline='') as f:\n",
    "        reader = csv.reader(f)\n",
    "        next(reader)\n",
    "        for row in reader:\n",
    "#             print(row)\n",
    "            key=row[1]+'-'+row[2]\n",
    "            key_rev=row[2]+'-'+row[1]\n",
    "            if key and key_rev not in ME_dic: \n",
    "                ME_dic[key]=1\n",
    "            else: ME_dic[key]+=1\n",
    "            G.add_edge(row[1], row[2], color='r')\n",
    "            ME_count += 1\n",
    "#             if ME_count >= 10: break\n",
    "    print(\"# of ME: \"+str(len(G.edges)))\n",
    "\n",
    "print(len(ME_dic))\n",
    "import operator\n",
    "sorted_x = sorted(ME_dic.items(), key=operator.itemgetter(1), reverse=True)\n",
    "print(sorted_x)"
   ]
  },
  {
   "cell_type": "code",
   "execution_count": null,
   "metadata": {},
   "outputs": [],
   "source": []
  }
 ],
 "metadata": {
  "kernelspec": {
   "display_name": "Python 3",
   "language": "python",
   "name": "python3"
  },
  "language_info": {
   "codemirror_mode": {
    "name": "ipython",
    "version": 3
   },
   "file_extension": ".py",
   "mimetype": "text/x-python",
   "name": "python",
   "nbconvert_exporter": "python",
   "pygments_lexer": "ipython3",
   "version": "3.7.2"
  }
 },
 "nbformat": 4,
 "nbformat_minor": 2
}
